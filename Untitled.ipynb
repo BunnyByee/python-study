{
 "cells": [
  {
   "cell_type": "code",
   "execution_count": 20,
   "id": "8c0a8d04-9575-4210-b9c8-478f14f51e16",
   "metadata": {},
   "outputs": [
    {
     "name": "stdout",
     "output_type": "stream",
     "text": [
      "hello\n"
     ]
    }
   ],
   "source": [
    "print('hello')"
   ]
  },
  {
   "cell_type": "code",
   "execution_count": 21,
   "id": "b0b1be15-6822-41d6-b165-d946dde21301",
   "metadata": {},
   "outputs": [
    {
     "name": "stdout",
     "output_type": "stream",
     "text": [
      "shift + enter = 다음줄로 넘기기\n"
     ]
    }
   ],
   "source": [
    "print('shift + enter = 다음줄로 넘기기')"
   ]
  },
  {
   "cell_type": "code",
   "execution_count": 22,
   "id": "6e71f161-7b1f-415c-8061-9d16fb93bf45",
   "metadata": {},
   "outputs": [
    {
     "name": "stdout",
     "output_type": "stream",
     "text": [
      "esc => d 두번, 삭제하기입니다!\n"
     ]
    }
   ],
   "source": [
    "print('esc => d 두번, 삭제하기입니다!')"
   ]
  },
  {
   "cell_type": "code",
   "execution_count": 2,
   "id": "473e8dc2-b310-4fe6-b1e3-ac96017a460f",
   "metadata": {},
   "outputs": [
    {
     "name": "stdout",
     "output_type": "stream",
     "text": [
      "Hello world\n"
     ]
    }
   ],
   "source": [
    "print('Hello world')"
   ]
  },
  {
   "cell_type": "code",
   "execution_count": 6,
   "id": "ad11f723",
   "metadata": {},
   "outputs": [
    {
     "data": {
      "text/plain": [
       "1"
      ]
     },
     "execution_count": 6,
     "metadata": {},
     "output_type": "execute_result"
    }
   ],
   "source": [
    "a = 1\n",
    "a"
   ]
  },
  {
   "cell_type": "code",
   "execution_count": 7,
   "id": "a65abc1a",
   "metadata": {},
   "outputs": [],
   "source": [
    "b = [1,2,3,4,5]"
   ]
  },
  {
   "cell_type": "code",
   "execution_count": 8,
   "id": "883ae2bb",
   "metadata": {},
   "outputs": [
    {
     "name": "stdout",
     "output_type": "stream",
     "text": [
      "[1, 2, 3, 4, 5, 1, 2, 3, 4, 5]\n"
     ]
    }
   ],
   "source": [
    "print(b*2)"
   ]
  },
  {
   "cell_type": "code",
   "execution_count": null,
   "id": "d44ca18f",
   "metadata": {},
   "outputs": [
    {
     "name": "stdout",
     "output_type": "stream",
     "text": [
      "문제 1\n",
      "potato\n",
      "오타! 다시 도전!\n",
      "문제 1\n",
      "onion\n",
      "오타! 다시 도전!\n",
      "문제 1\n",
      "sky\n"
     ]
    }
   ],
   "source": [
    "import random\n",
    "import time\n",
    "import os\n",
    "\n",
    "if os.path.exists('word.txt') : # 파일 존재 여부 확인\n",
    "\n",
    "    with open('word.txt', 'r') as f:\n",
    "        word = f.read().split() #전역 변수\n",
    "else :\n",
    "    word = ['sky', 'earth', 'moon', 'flower', 'tree', \n",
    "            'apple', 'grape', 'garlic', 'onion', 'potato']\n",
    "\n",
    "n = 1\n",
    "\n",
    "input('[타자게임] 준비되면 엔터!')\n",
    "start = time.time()\n",
    "\n",
    "while n <11 :\n",
    "    print('문제',n)\n",
    "    question = random.choice(word)\n",
    "    print(question) # 문제 출제\n",
    "    user = input()\n",
    "    if question == user :\n",
    "        print('통과!!')\n",
    "        n += 1 # 다음 문제 카운트\n",
    "    else:\n",
    "        print('오타! 다시 도전!')\n",
    "\n",
    "end = time.time()\n",
    "et = end - start\n",
    "print(f'타자 시간: {et: .2f}초')"
   ]
  },
  {
   "cell_type": "code",
   "execution_count": 6,
   "id": "d4134e6e",
   "metadata": {},
   "outputs": [
    {
     "name": "stdout",
     "output_type": "stream",
     "text": [
      "['3' '1' '2' '1']\n",
      "[3, 1, 2, '1']\n",
      "<class 'numpy.ndarray'>\n",
      "<class 'list'>\n"
     ]
    }
   ],
   "source": [
    "import numpy as np \n",
    "x = np.array([3,1,2,'1'])\n",
    "print(x)\n",
    "print(([3,1,2,'1']))\n",
    "print(type(x))\n",
    "print(type([3,1,2]))"
   ]
  },
  {
   "cell_type": "code",
   "execution_count": 11,
   "id": "bd027fcd",
   "metadata": {},
   "outputs": [
    {
     "name": "stdout",
     "output_type": "stream",
     "text": [
      "1 1\n",
      "1 2\n"
     ]
    }
   ],
   "source": [
    "c = [[1],[1,2]]\n",
    "# d = np.array([[1],[1,2]]) 오류\n",
    "d = np.array([[1,1],[1,2]])\n",
    "\n",
    "for x,y in d:\n",
    "    print(x,y)"
   ]
  },
  {
   "cell_type": "code",
   "execution_count": 12,
   "id": "203b69bf",
   "metadata": {},
   "outputs": [
    {
     "name": "stdout",
     "output_type": "stream",
     "text": [
      " C ����̺��� �������� �̸��� �����ϴ�.\n",
      " ���� �Ϸ� ��ȣ: 9AEB-3250\n",
      "\n",
      " c:\\Users\\kimhi\\python-test ���͸�\n",
      "\n",
      "2024-12-13  ���� 11:39    <DIR>          .\n",
      "2024-12-13  ���� 11:25    <DIR>          ..\n",
      "2024-12-13  ���� 11:31    <DIR>          .ipynb_checkpoints\n",
      "2024-11-30  ���� 10:07             1,044 1.py\n",
      "2024-12-05  ���� 12:46             1,502 10.py\n",
      "2024-12-05  ���� 10:01               766 11.py\n",
      "2024-12-05  ���� 12:46             1,007 12.py\n",
      "2024-12-05  ���� 01:52             1,628 13.py\n",
      "2024-12-07  ���� 01:52             2,985 14.py\n",
      "2024-12-09  ���� 11:21             2,040 15.py\n",
      "2024-12-10  ���� 10:20             1,813 16.py\n",
      "2024-12-10  ���� 10:32             2,391 17.py\n",
      "2024-12-10  ���� 11:37             1,211 18.py\n",
      "2024-12-10  ���� 01:51             1,902 19.py\n",
      "2024-11-30  ���� 10:38               576 2.py\n",
      "2024-12-11  ���� 10:15             2,032 20.py\n",
      "2024-12-11  ���� 12:33               711 21.py\n",
      "2024-12-11  ���� 01:22               256 22.py\n",
      "2024-12-12  ���� 10:15               891 23.py\n",
      "2024-12-12  ���� 11:26               459 24.py\n",
      "2024-12-12  ���� 01:02             1,450 25.py\n",
      "2024-12-12  ���� 01:55               823 26.py\n",
      "2024-12-13  ���� 10:04               432 27.py\n",
      "2024-12-13  ���� 11:11             1,808 28.py\n",
      "2024-11-30  ���� 12:15             1,391 3.py\n",
      "2024-11-30  ���� 01:51             1,247 4.py\n",
      "2024-11-30  ���� 01:51               961 5.py\n",
      "2024-12-02  ���� 10:48             1,255 6.py\n",
      "2024-12-02  ���� 12:49             3,867 7.py\n",
      "2024-12-04  ���� 09:16             2,583 8.py\n",
      "2024-12-04  ���� 10:39             1,391 9.py\n",
      "2024-12-11  ���� 12:48    <DIR>          bbb\n",
      "2024-12-10  ���� 11:16               140 calc_module.py\n",
      "2024-12-12  ���� 11:48                 0 check.txt\n",
      "2024-12-12  ���� 12:21                29 member.txt\n",
      "2024-12-12  ���� 01:43                21 member_tel.txt\n",
      "2024-12-11  ���� 12:30    <DIR>          modules\n",
      "2024-12-13  ���� 10:11    <DIR>          output\n",
      "2024-12-11  ���� 11:59               816 sys_ex1.py\n",
      "2024-12-12  ���� 09:42                33 text.txt\n",
      "2024-12-12  ���� 10:11                10 text2.txt\n",
      "2024-12-12  ���� 10:24    <DIR>          typing_game\n",
      "2024-12-13  ���� 12:21             4,410 Untitled.ipynb\n",
      "2024-12-05  ���� 12:03             4,456 ����Ʈ, ���ǹ� ����.py\n",
      "              37�� ����              50,337 ����Ʈ\n",
      "               7�� ���͸�  758,734,782,464 ����Ʈ ����\n"
     ]
    }
   ],
   "source": [
    "%ls"
   ]
  },
  {
   "cell_type": "code",
   "execution_count": 17,
   "id": "3eb2fc82",
   "metadata": {},
   "outputs": [
    {
     "name": "stdout",
     "output_type": "stream",
     "text": [
      "[3. 6. 9.]\n",
      "[-1. -2. -3.]\n",
      "[ 2.  8. 18.]\n",
      "[0.5 0.5 0.5]\n"
     ]
    }
   ],
   "source": [
    "x = np.array([1.0, 2.0, 3.0])\n",
    "y = np.array([2.0, 4.0, 6.0])\n",
    "\n",
    "print(x+y)\n",
    "print(x-y)\n",
    "print(x*y)\n",
    "print(x/y)"
   ]
  },
  {
   "cell_type": "code",
   "execution_count": 15,
   "id": "eb107705",
   "metadata": {},
   "outputs": [
    {
     "ename": "UFuncTypeError",
     "evalue": "ufunc 'add' did not contain a loop with signature matching types (dtype('<U3'), dtype('<U3')) -> None",
     "output_type": "error",
     "traceback": [
      "\u001b[1;31m---------------------------------------------------------------------------\u001b[0m",
      "\u001b[1;31mUFuncTypeError\u001b[0m                            Traceback (most recent call last)",
      "Cell \u001b[1;32mIn[15], line 4\u001b[0m\n\u001b[0;32m      1\u001b[0m x \u001b[38;5;241m=\u001b[39m np\u001b[38;5;241m.\u001b[39marray([\u001b[38;5;124m'\u001b[39m\u001b[38;5;124m1.0\u001b[39m\u001b[38;5;124m'\u001b[39m, \u001b[38;5;124m'\u001b[39m\u001b[38;5;124m2.0\u001b[39m\u001b[38;5;124m'\u001b[39m, \u001b[38;5;124m'\u001b[39m\u001b[38;5;124m3.0\u001b[39m\u001b[38;5;124m'\u001b[39m])\n\u001b[0;32m      2\u001b[0m y \u001b[38;5;241m=\u001b[39m np\u001b[38;5;241m.\u001b[39marray([\u001b[38;5;124m'\u001b[39m\u001b[38;5;124m2.0\u001b[39m\u001b[38;5;124m'\u001b[39m, \u001b[38;5;124m'\u001b[39m\u001b[38;5;124m4.0\u001b[39m\u001b[38;5;124m'\u001b[39m, \u001b[38;5;124m'\u001b[39m\u001b[38;5;124m6.0\u001b[39m\u001b[38;5;124m'\u001b[39m])\n\u001b[1;32m----> 4\u001b[0m \u001b[38;5;28mprint\u001b[39m(x\u001b[38;5;241m+\u001b[39my)\n\u001b[0;32m      5\u001b[0m \u001b[38;5;28mprint\u001b[39m(x\u001b[38;5;241m-\u001b[39my)\n\u001b[0;32m      6\u001b[0m \u001b[38;5;28mprint\u001b[39m(x\u001b[38;5;241m*\u001b[39my)\n",
      "\u001b[1;31mUFuncTypeError\u001b[0m: ufunc 'add' did not contain a loop with signature matching types (dtype('<U3'), dtype('<U3')) -> None"
     ]
    }
   ],
   "source": [
    "x = np.array(['1.0', '2.0', '3.0'])\n",
    "y = np.array(['2.0', '4.0', '6.0'])\n",
    "\n",
    "print(x+y)\n",
    "print(x-y)\n",
    "print(x*y)\n",
    "print(x/y)"
   ]
  },
  {
   "cell_type": "code",
   "execution_count": 20,
   "id": "3d3296c0",
   "metadata": {},
   "outputs": [
    {
     "name": "stdout",
     "output_type": "stream",
     "text": [
      "(3,)\n",
      "float64\n",
      "(2, 2)\n",
      "[1. 2. 3.]\n"
     ]
    }
   ],
   "source": [
    "print(x.shape)\n",
    "print(x.dtype)\n",
    "print(d.shape)\n",
    "print(y/2.0)"
   ]
  },
  {
   "cell_type": "code",
   "execution_count": 21,
   "id": "c6846ed1",
   "metadata": {},
   "outputs": [
    {
     "name": "stdout",
     "output_type": "stream",
     "text": [
      "1\n"
     ]
    }
   ],
   "source": [
    "print(x.ndim)"
   ]
  },
  {
   "cell_type": "code",
   "execution_count": 23,
   "id": "83e2307c",
   "metadata": {},
   "outputs": [
    {
     "name": "stdout",
     "output_type": "stream",
     "text": [
      "2\n"
     ]
    }
   ],
   "source": [
    "a = np.array([[1,2],[3,4],[5,6]])\n",
    "print(a.ndim)"
   ]
  },
  {
   "cell_type": "code",
   "execution_count": 25,
   "id": "21fa6844",
   "metadata": {},
   "outputs": [
    {
     "name": "stdout",
     "output_type": "stream",
     "text": [
      "(3, 2)\n"
     ]
    }
   ],
   "source": [
    "print(a.shape)"
   ]
  },
  {
   "cell_type": "code",
   "execution_count": 27,
   "id": "b1794d6b",
   "metadata": {},
   "outputs": [
    {
     "name": "stdout",
     "output_type": "stream",
     "text": [
      "3\n"
     ]
    }
   ],
   "source": [
    "a = np.array([[[1],[2]],[[3],[4]],[[5],[6]]])\n",
    "print(a.ndim)"
   ]
  },
  {
   "cell_type": "code",
   "execution_count": 29,
   "id": "4a7b8c57",
   "metadata": {},
   "outputs": [
    {
     "name": "stdout",
     "output_type": "stream",
     "text": [
      "(3, 2, 1)\n"
     ]
    }
   ],
   "source": [
    "print(a.shape)"
   ]
  },
  {
   "cell_type": "code",
   "execution_count": 30,
   "id": "f6afbb3a",
   "metadata": {},
   "outputs": [
    {
     "name": "stdout",
     "output_type": "stream",
     "text": [
      "3\n"
     ]
    }
   ],
   "source": [
    "a = np.array([[[1,2],[2,2]],[[3,2],[4,2]],[[5,2],[6,2]]])\n",
    "print(a.ndim)"
   ]
  },
  {
   "cell_type": "code",
   "execution_count": 31,
   "id": "4d4bba70",
   "metadata": {},
   "outputs": [
    {
     "name": "stdout",
     "output_type": "stream",
     "text": [
      "(3, 2, 2)\n"
     ]
    }
   ],
   "source": [
    "print(a.shape)"
   ]
  },
  {
   "cell_type": "code",
   "execution_count": 32,
   "id": "5019fc83",
   "metadata": {},
   "outputs": [
    {
     "data": {
      "text/plain": [
       "8"
      ]
     },
     "execution_count": 32,
     "metadata": {},
     "output_type": "execute_result"
    }
   ],
   "source": [
    "np.dot(4,2)"
   ]
  },
  {
   "cell_type": "code",
   "execution_count": 33,
   "id": "6aa8493e",
   "metadata": {},
   "outputs": [
    {
     "data": {
      "text/plain": [
       "14"
      ]
     },
     "execution_count": 33,
     "metadata": {},
     "output_type": "execute_result"
    }
   ],
   "source": [
    "ndar1 = np.array([1,2])\n",
    "ndar2 = np.array([4,5])\n",
    "np.dot(ndar1,ndar2)"
   ]
  },
  {
   "cell_type": "code",
   "execution_count": 35,
   "id": "fbf73511",
   "metadata": {},
   "outputs": [
    {
     "data": {
      "text/plain": [
       "array([[ 7, 10],\n",
       "       [15, 22]])"
      ]
     },
     "execution_count": 35,
     "metadata": {},
     "output_type": "execute_result"
    }
   ],
   "source": [
    "ndar1 = np.array([[1,2],[3,4]])\n",
    "ndar2 = np.array([[1,2],[3,4]])\n",
    "np.dot(ndar1,ndar2)"
   ]
  },
  {
   "cell_type": "code",
   "execution_count": 37,
   "id": "9fbe740c",
   "metadata": {},
   "outputs": [
    {
     "ename": "ValueError",
     "evalue": "matmul: Input operand 1 has a mismatch in its core dimension 0, with gufunc signature (n?,k),(k,m?)->(n?,m?) (size 2 is different from 1)",
     "output_type": "error",
     "traceback": [
      "\u001b[1;31m---------------------------------------------------------------------------\u001b[0m",
      "\u001b[1;31mValueError\u001b[0m                                Traceback (most recent call last)",
      "Cell \u001b[1;32mIn[37], line 3\u001b[0m\n\u001b[0;32m      1\u001b[0m ndar1 \u001b[38;5;241m=\u001b[39m np\u001b[38;5;241m.\u001b[39marray([[\u001b[38;5;241m1\u001b[39m],[\u001b[38;5;241m3\u001b[39m]])\n\u001b[0;32m      2\u001b[0m ndar2 \u001b[38;5;241m=\u001b[39m np\u001b[38;5;241m.\u001b[39marray([[\u001b[38;5;241m1\u001b[39m,\u001b[38;5;241m2\u001b[39m],[\u001b[38;5;241m3\u001b[39m,\u001b[38;5;241m4\u001b[39m]])\n\u001b[1;32m----> 3\u001b[0m np\u001b[38;5;241m.\u001b[39mmatmul(ndar1,ndar2)\n",
      "\u001b[1;31mValueError\u001b[0m: matmul: Input operand 1 has a mismatch in its core dimension 0, with gufunc signature (n?,k),(k,m?)->(n?,m?) (size 2 is different from 1)"
     ]
    }
   ],
   "source": [
    "ndar1 = np.array([[1],[3]])\n",
    "ndar2 = np.array([[1,2],[3,4]])\n",
    "np.matmul(ndar1,ndar2)"
   ]
  },
  {
   "cell_type": "code",
   "execution_count": 40,
   "id": "a5cfa4ec",
   "metadata": {},
   "outputs": [
    {
     "name": "stdout",
     "output_type": "stream",
     "text": [
      "(2, 2, 1)\n",
      "1\n",
      "[[[1]\n",
      "  [2]]\n",
      "\n",
      " [[3]\n",
      "  [4]]]\n",
      "[1 2 3 4]\n"
     ]
    }
   ],
   "source": [
    "ndar2 = np.array([[[1],[2]],[[3],[4]]])\n",
    "print(ndar2.shape)\n",
    "a = ndar2.flatten()\n",
    "print(a.ndim)\n",
    "print(ndar2)\n",
    "print(a)"
   ]
  },
  {
   "cell_type": "code",
   "execution_count": 41,
   "id": "4949280b",
   "metadata": {},
   "outputs": [
    {
     "data": {
      "text/plain": [
       "array([[1, 2, 2],\n",
       "       [3, 3, 4]])"
      ]
     },
     "execution_count": 41,
     "metadata": {},
     "output_type": "execute_result"
    }
   ],
   "source": [
    "ndarr = np.array([[1,2],[2,3],[3,4]])\n",
    "ndarr.reshape(2,3)"
   ]
  },
  {
   "cell_type": "code",
   "execution_count": 43,
   "id": "257fed93",
   "metadata": {},
   "outputs": [
    {
     "data": {
      "text/plain": [
       "array([[1],\n",
       "       [2],\n",
       "       [2],\n",
       "       [3],\n",
       "       [3],\n",
       "       [4]])"
      ]
     },
     "execution_count": 43,
     "metadata": {},
     "output_type": "execute_result"
    }
   ],
   "source": [
    "ndarr.reshape(6,1)"
   ]
  },
  {
   "cell_type": "code",
   "execution_count": 44,
   "id": "164609ee",
   "metadata": {},
   "outputs": [
    {
     "data": {
      "text/plain": [
       "array([[1, 2, 2, 3, 3, 4]])"
      ]
     },
     "execution_count": 44,
     "metadata": {},
     "output_type": "execute_result"
    }
   ],
   "source": [
    "ndarr.reshape(1,6)"
   ]
  },
  {
   "cell_type": "code",
   "execution_count": 45,
   "id": "6867f819",
   "metadata": {},
   "outputs": [
    {
     "data": {
      "text/plain": [
       "array([1, 2, 2, 3, 3, 4])"
      ]
     },
     "execution_count": 45,
     "metadata": {},
     "output_type": "execute_result"
    }
   ],
   "source": [
    "ndarr.flatten() # 1차원?"
   ]
  },
  {
   "cell_type": "code",
   "execution_count": 46,
   "id": "2a91afcc",
   "metadata": {},
   "outputs": [
    {
     "data": {
      "text/plain": [
       "array([[2, 4, 4, 1],\n",
       "       [2, 1, 0, 4]])"
      ]
     },
     "execution_count": 46,
     "metadata": {},
     "output_type": "execute_result"
    }
   ],
   "source": [
    "np.random.randint(5,size=(2,4))"
   ]
  },
  {
   "cell_type": "code",
   "execution_count": 47,
   "id": "017aabc9",
   "metadata": {},
   "outputs": [
    {
     "data": {
      "text/plain": [
       "array([[0.12232281, 0.60045527, 0.42649047, 0.89874203],\n",
       "       [0.47806609, 0.09008355, 0.98828644, 0.33072311]])"
      ]
     },
     "execution_count": 47,
     "metadata": {},
     "output_type": "execute_result"
    }
   ],
   "source": [
    "np.random.rand(2,4)"
   ]
  },
  {
   "cell_type": "code",
   "execution_count": 48,
   "id": "48b58e8e",
   "metadata": {},
   "outputs": [],
   "source": [
    "rng = np.random.default_rng() # 권장장"
   ]
  },
  {
   "cell_type": "code",
   "execution_count": 49,
   "id": "881e1f1f",
   "metadata": {},
   "outputs": [
    {
     "data": {
      "text/plain": [
       "0.3533705570021066"
      ]
     },
     "execution_count": 49,
     "metadata": {},
     "output_type": "execute_result"
    }
   ],
   "source": [
    "rng.random()"
   ]
  },
  {
   "cell_type": "code",
   "execution_count": 50,
   "id": "47e4e01e",
   "metadata": {},
   "outputs": [
    {
     "data": {
      "text/plain": [
       "array([[5, 0, 0, 1],\n",
       "       [1, 1, 5, 1]], dtype=int64)"
      ]
     },
     "execution_count": 50,
     "metadata": {},
     "output_type": "execute_result"
    }
   ],
   "source": [
    "rng.integers(0,10,(2,4))"
   ]
  },
  {
   "cell_type": "code",
   "execution_count": 51,
   "id": "117eb78a",
   "metadata": {},
   "outputs": [
    {
     "data": {
      "text/plain": [
       "array([[ True, False],\n",
       "       [ True, False],\n",
       "       [False, False]])"
      ]
     },
     "execution_count": 51,
     "metadata": {},
     "output_type": "execute_result"
    }
   ],
   "source": [
    "ndarr = np.array([[6,3],[5,2],[4,1]])\n",
    "ndarr > 4"
   ]
  },
  {
   "cell_type": "code",
   "execution_count": 54,
   "id": "14fea36a",
   "metadata": {},
   "outputs": [
    {
     "data": {
      "text/plain": [
       "array([6, 3, 5, 2, 4])"
      ]
     },
     "execution_count": 54,
     "metadata": {},
     "output_type": "execute_result"
    }
   ],
   "source": [
    "ndarr[ndarr > 1] # 1차원"
   ]
  },
  {
   "cell_type": "code",
   "execution_count": 58,
   "id": "056d8006",
   "metadata": {},
   "outputs": [
    {
     "data": {
      "text/plain": [
       "array([[5, 2],\n",
       "       [4, 1]])"
      ]
     },
     "execution_count": 58,
     "metadata": {},
     "output_type": "execute_result"
    }
   ],
   "source": [
    "ndarr[1:]"
   ]
  },
  {
   "cell_type": "code",
   "execution_count": 57,
   "id": "ebc8f56c",
   "metadata": {},
   "outputs": [
    {
     "data": {
      "text/plain": [
       "array([6, 3, 5, 2, 4])"
      ]
     },
     "execution_count": 57,
     "metadata": {},
     "output_type": "execute_result"
    }
   ],
   "source": [
    "ndarr[[[ True, True],\n",
    "       [ True, True],\n",
    "       [True, False]]]"
   ]
  }
 ],
 "metadata": {
  "kernelspec": {
   "display_name": "base",
   "language": "python",
   "name": "python3"
  },
  "language_info": {
   "codemirror_mode": {
    "name": "ipython",
    "version": 3
   },
   "file_extension": ".py",
   "mimetype": "text/x-python",
   "name": "python",
   "nbconvert_exporter": "python",
   "pygments_lexer": "ipython3",
   "version": "3.12.7"
  }
 },
 "nbformat": 4,
 "nbformat_minor": 5
}
