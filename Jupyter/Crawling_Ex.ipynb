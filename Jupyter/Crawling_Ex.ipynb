{
 "cells": [
  {
   "cell_type": "code",
   "execution_count": 2,
   "metadata": {},
   "outputs": [
    {
     "name": "stdout",
     "output_type": "stream",
     "text": [
      "USD 1,449.50\n",
      "JPY(100엔) 928.16\n",
      "EUR 1,512.12\n",
      "CNY 198.66\n"
     ]
    }
   ],
   "source": [
    "import requests\n",
    "from bs4 import BeautifulSoup\n",
    "import openpyxl\n",
    "\n",
    "response = requests.get(\"https://finance.naver.com/marketindex/?tabSel=exchange#tab_section\")\n",
    "html = response.text\n",
    "soup = BeautifulSoup(html,'html.parser')\n",
    "\n",
    "wb = openpyxl.Workbook()\n",
    "ws = wb.active\n",
    "ws.title = 'codingon_ex'\n",
    "ws['A1'] = '통화'\n",
    "ws['B1'] = '환율'\n",
    "\n",
    "# m_title = soup.select('.market1 .data .h_lst .blind')\n",
    "# m_num = soup.select('.market1 .data .value')\n",
    "\n",
    "# for i in m_title :\n",
    "#     txt = i.text\n",
    "#     clear_text = ' '.join(txt.split()[1:])\n",
    "#     print(clear_text)\n",
    "\n",
    "# for j in m_num :\n",
    "#     print(j.text)\n",
    "\n",
    "# for i, j in zip(m_title, m_num) :\n",
    "#     txt = i.text\n",
    "#     num = j.text\n",
    "#     clear_txt = ' '.join(txt.split()[1:])\n",
    "#     print(clear_txt,num)\n",
    "\n",
    "all_li = soup.select('.market1 ul.data_lst > li')\n",
    "# print(all_li)\n",
    "\n",
    "for li in all_li:\n",
    "    title = li.select_one('span.blind')\n",
    "    value = li.select_one('span.value')\n",
    "    print(title.string.split()[-1], value.text)\n",
    "    ws.append([title.string.split()[-1], value.text])\n",
    "\n",
    "wb.save('codingon_ex.xlsx')\n"
   ]
  }
 ],
 "metadata": {
  "kernelspec": {
   "display_name": "base",
   "language": "python",
   "name": "python3"
  },
  "language_info": {
   "codemirror_mode": {
    "name": "ipython",
    "version": 3
   },
   "file_extension": ".py",
   "mimetype": "text/x-python",
   "name": "python",
   "nbconvert_exporter": "python",
   "pygments_lexer": "ipython3",
   "version": "3.12.7"
  }
 },
 "nbformat": 4,
 "nbformat_minor": 2
}
