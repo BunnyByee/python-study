{
 "cells": [
  {
   "cell_type": "code",
   "execution_count": 1,
   "metadata": {},
   "outputs": [
    {
     "name": "stdout",
     "output_type": "stream",
     "text": [
      "Requirement already satisfied: openpyxl in c:\\users\\kimhi\\anaconda3\\lib\\site-packages (3.1.5)\n",
      "Requirement already satisfied: et-xmlfile in c:\\users\\kimhi\\anaconda3\\lib\\site-packages (from openpyxl) (1.1.0)\n",
      "Note: you may need to restart the kernel to use updated packages.\n"
     ]
    }
   ],
   "source": [
    "%pip install openpyxl"
   ]
  },
  {
   "cell_type": "code",
   "execution_count": 2,
   "metadata": {},
   "outputs": [],
   "source": [
    "import openpyxl"
   ]
  },
  {
   "cell_type": "code",
   "execution_count": null,
   "metadata": {},
   "outputs": [],
   "source": [
    "wb = openpyxl.Workbook()\n",
    "ws = wb.create_sheet('codingon')\n",
    "\n",
    "ws['A1'] = '이름'\n",
    "ws['B1'] = '영어이름'\n",
    "\n",
    "ws['A2'] = '홍길동'\n",
    "ws['B2'] = 'Hong'\n",
    "\n",
    "wb.save('codingon.xlsx')"
   ]
  },
  {
   "cell_type": "code",
   "execution_count": 8,
   "metadata": {},
   "outputs": [],
   "source": [
    "wb = openpyxl.load_workbook('codingon.xlsx')\n",
    "\n",
    "ws = wb['codingon']\n",
    "\n",
    "ws['A3'] = '1111'\n",
    "ws['B3'] = '34324'\n",
    "\n",
    "wb.save('codingon.xlsx')"
   ]
  },
  {
   "cell_type": "code",
   "execution_count": 11,
   "metadata": {},
   "outputs": [],
   "source": [
    "wb = openpyxl.Workbook()\n",
    "\n",
    "ws = wb.active\n",
    "ws.title = 'Data'\n",
    "\n",
    "data = [['이름', 'name'],['가나다', 'ganada'],['밥','Bob']]\n",
    "\n",
    "for row in data :\n",
    "    ws.append(row)\n",
    "\n",
    "wb.save('append_ex.xlsx')"
   ]
  },
  {
   "cell_type": "code",
   "execution_count": 12,
   "metadata": {},
   "outputs": [
    {
     "name": "stdout",
     "output_type": "stream",
     "text": [
      "    이름    name\n",
      "0  가나다  ganada\n",
      "1    밥     Bob\n"
     ]
    }
   ],
   "source": [
    "import pandas as pd\n",
    "a = pd.read_excel('append_ex.xlsx')\n",
    "print(a)"
   ]
  }
 ],
 "metadata": {
  "kernelspec": {
   "display_name": "base",
   "language": "python",
   "name": "python3"
  },
  "language_info": {
   "codemirror_mode": {
    "name": "ipython",
    "version": 3
   },
   "file_extension": ".py",
   "mimetype": "text/x-python",
   "name": "python",
   "nbconvert_exporter": "python",
   "pygments_lexer": "ipython3",
   "version": "3.12.7"
  }
 },
 "nbformat": 4,
 "nbformat_minor": 2
}
