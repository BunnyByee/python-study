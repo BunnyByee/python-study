{
 "cells": [
  {
   "cell_type": "code",
   "execution_count": 2,
   "id": "8c0a8d04-9575-4210-b9c8-478f14f51e16",
   "metadata": {},
   "outputs": [
    {
     "name": "stdout",
     "output_type": "stream",
     "text": [
      "hello\n"
     ]
    }
   ],
   "source": [
    "print('hello')"
   ]
  },
  {
   "cell_type": "code",
   "execution_count": 3,
   "id": "b0b1be15-6822-41d6-b165-d946dde21301",
   "metadata": {},
   "outputs": [
    {
     "name": "stdout",
     "output_type": "stream",
     "text": [
      "shift + enter = 다음줄로 넘기기\n"
     ]
    }
   ],
   "source": [
    "print('shift + enter = 다음줄로 넘기기')"
   ]
  },
  {
   "cell_type": "code",
   "execution_count": 4,
   "id": "6e71f161-7b1f-415c-8061-9d16fb93bf45",
   "metadata": {},
   "outputs": [
    {
     "name": "stdout",
     "output_type": "stream",
     "text": [
      "esc => d 두번, 삭제하기입니다!\n"
     ]
    }
   ],
   "source": [
    "print('esc => d 두번, 삭제하기입니다!')"
   ]
  },
  {
   "cell_type": "code",
   "execution_count": 5,
   "id": "473e8dc2-b310-4fe6-b1e3-ac96017a460f",
   "metadata": {},
   "outputs": [
    {
     "name": "stdout",
     "output_type": "stream",
     "text": [
      "Hello world\n"
     ]
    }
   ],
   "source": [
    "print('Hello world')"
   ]
  },
  {
   "cell_type": "code",
   "execution_count": 6,
   "id": "ad11f723",
   "metadata": {},
   "outputs": [
    {
     "data": {
      "text/plain": [
       "1"
      ]
     },
     "execution_count": 6,
     "metadata": {},
     "output_type": "execute_result"
    }
   ],
   "source": [
    "a = 1\n",
    "a"
   ]
  },
  {
   "cell_type": "code",
   "execution_count": 7,
   "id": "a65abc1a",
   "metadata": {},
   "outputs": [],
   "source": [
    "b = [1,2,3,4,5]"
   ]
  },
  {
   "cell_type": "code",
   "execution_count": 8,
   "id": "883ae2bb",
   "metadata": {},
   "outputs": [
    {
     "name": "stdout",
     "output_type": "stream",
     "text": [
      "[1, 2, 3, 4, 5, 1, 2, 3, 4, 5]\n"
     ]
    }
   ],
   "source": [
    "print(b*2)"
   ]
  },
  {
   "cell_type": "code",
   "execution_count": 9,
   "id": "d44ca18f",
   "metadata": {},
   "outputs": [
    {
     "name": "stdout",
     "output_type": "stream",
     "text": [
      "문제 1\n",
      "garlic\n",
      "오타! 다시 도전!\n",
      "문제 1\n",
      "tree\n",
      "오타! 다시 도전!\n",
      "문제 1\n",
      "earth\n",
      "오타! 다시 도전!\n",
      "문제 1\n",
      "garlic\n",
      "오타! 다시 도전!\n",
      "문제 1\n",
      "garlic\n",
      "오타! 다시 도전!\n",
      "문제 1\n",
      "earth\n",
      "오타! 다시 도전!\n",
      "문제 1\n",
      "flower\n",
      "오타! 다시 도전!\n",
      "문제 1\n",
      "grape\n",
      "오타! 다시 도전!\n",
      "문제 1\n",
      "tree\n",
      "오타! 다시 도전!\n",
      "문제 1\n",
      "grape\n",
      "오타! 다시 도전!\n",
      "문제 1\n",
      "onion\n",
      "오타! 다시 도전!\n",
      "문제 1\n",
      "grape\n",
      "오타! 다시 도전!\n",
      "문제 1\n",
      "onion\n",
      "오타! 다시 도전!\n",
      "문제 1\n",
      "tree\n",
      "오타! 다시 도전!\n",
      "문제 1\n",
      "onion\n",
      "오타! 다시 도전!\n",
      "문제 1\n",
      "onion\n",
      "오타! 다시 도전!\n",
      "문제 1\n",
      "apple\n",
      "오타! 다시 도전!\n",
      "문제 1\n",
      "sky\n",
      "오타! 다시 도전!\n",
      "문제 1\n",
      "grape\n",
      "오타! 다시 도전!\n",
      "문제 1\n",
      "earth\n",
      "오타! 다시 도전!\n",
      "문제 1\n",
      "apple\n",
      "오타! 다시 도전!\n",
      "문제 1\n",
      "tree\n",
      "오타! 다시 도전!\n",
      "문제 1\n",
      "grape\n",
      "오타! 다시 도전!\n",
      "문제 1\n",
      "potato\n",
      "오타! 다시 도전!\n",
      "문제 1\n",
      "garlic\n",
      "오타! 다시 도전!\n",
      "문제 1\n",
      "flower\n",
      "오타! 다시 도전!\n",
      "문제 1\n",
      "tree\n",
      "오타! 다시 도전!\n",
      "문제 1\n",
      "moon\n",
      "오타! 다시 도전!\n",
      "문제 1\n",
      "garlic\n",
      "오타! 다시 도전!\n",
      "문제 1\n",
      "garlic\n",
      "오타! 다시 도전!\n",
      "문제 1\n",
      "potato\n",
      "오타! 다시 도전!\n",
      "문제 1\n",
      "flower\n",
      "오타! 다시 도전!\n",
      "문제 1\n",
      "moon\n",
      "오타! 다시 도전!\n",
      "문제 1\n",
      "grape\n",
      "오타! 다시 도전!\n",
      "문제 1\n",
      "apple\n",
      "오타! 다시 도전!\n",
      "문제 1\n",
      "potato\n",
      "오타! 다시 도전!\n",
      "문제 1\n",
      "flower\n",
      "오타! 다시 도전!\n",
      "문제 1\n",
      "sky\n",
      "오타! 다시 도전!\n",
      "문제 1\n",
      "tree\n",
      "오타! 다시 도전!\n",
      "문제 1\n",
      "flower\n",
      "오타! 다시 도전!\n",
      "문제 1\n",
      "tree\n",
      "오타! 다시 도전!\n",
      "문제 1\n",
      "moon\n",
      "오타! 다시 도전!\n",
      "문제 1\n",
      "moon\n",
      "오타! 다시 도전!\n",
      "문제 1\n",
      "garlic\n",
      "오타! 다시 도전!\n",
      "문제 1\n",
      "sky\n",
      "오타! 다시 도전!\n",
      "문제 1\n",
      "potato\n",
      "오타! 다시 도전!\n",
      "문제 1\n",
      "moon\n",
      "오타! 다시 도전!\n",
      "문제 1\n",
      "potato\n",
      "오타! 다시 도전!\n",
      "문제 1\n",
      "grape\n",
      "오타! 다시 도전!\n",
      "문제 1\n",
      "sky\n",
      "오타! 다시 도전!\n",
      "문제 1\n",
      "potato\n",
      "오타! 다시 도전!\n",
      "문제 1\n",
      "grape\n",
      "오타! 다시 도전!\n",
      "문제 1\n",
      "tree\n",
      "오타! 다시 도전!\n",
      "문제 1\n",
      "flower\n",
      "오타! 다시 도전!\n",
      "문제 1\n",
      "sky\n",
      "오타! 다시 도전!\n",
      "문제 1\n",
      "grape\n",
      "오타! 다시 도전!\n",
      "문제 1\n",
      "moon\n",
      "오타! 다시 도전!\n",
      "문제 1\n",
      "earth\n",
      "오타! 다시 도전!\n",
      "문제 1\n",
      "potato\n",
      "오타! 다시 도전!\n",
      "문제 1\n",
      "garlic\n",
      "오타! 다시 도전!\n",
      "문제 1\n",
      "sky\n",
      "오타! 다시 도전!\n",
      "문제 1\n",
      "flower\n",
      "오타! 다시 도전!\n",
      "문제 1\n",
      "flower\n",
      "오타! 다시 도전!\n",
      "문제 1\n",
      "garlic\n",
      "오타! 다시 도전!\n",
      "문제 1\n",
      "sky\n",
      "오타! 다시 도전!\n",
      "문제 1\n",
      "tree\n",
      "오타! 다시 도전!\n",
      "문제 1\n",
      "onion\n",
      "오타! 다시 도전!\n",
      "문제 1\n",
      "onion\n",
      "오타! 다시 도전!\n",
      "문제 1\n",
      "flower\n",
      "오타! 다시 도전!\n",
      "문제 1\n",
      "onion\n",
      "오타! 다시 도전!\n",
      "문제 1\n",
      "tree\n",
      "오타! 다시 도전!\n",
      "문제 1\n",
      "onion\n",
      "오타! 다시 도전!\n",
      "문제 1\n",
      "earth\n",
      "오타! 다시 도전!\n",
      "문제 1\n",
      "earth\n",
      "오타! 다시 도전!\n",
      "문제 1\n",
      "garlic\n",
      "오타! 다시 도전!\n",
      "문제 1\n",
      "potato\n",
      "오타! 다시 도전!\n",
      "문제 1\n",
      "flower\n",
      "오타! 다시 도전!\n",
      "문제 1\n",
      "earth\n",
      "오타! 다시 도전!\n",
      "문제 1\n",
      "apple\n",
      "오타! 다시 도전!\n",
      "문제 1\n",
      "grape\n",
      "오타! 다시 도전!\n",
      "문제 1\n",
      "sky\n",
      "오타! 다시 도전!\n",
      "문제 1\n",
      "onion\n",
      "오타! 다시 도전!\n",
      "문제 1\n",
      "flower\n",
      "오타! 다시 도전!\n",
      "문제 1\n",
      "moon\n",
      "오타! 다시 도전!\n",
      "문제 1\n",
      "onion\n",
      "오타! 다시 도전!\n",
      "문제 1\n",
      "moon\n",
      "오타! 다시 도전!\n",
      "문제 1\n",
      "grape\n",
      "오타! 다시 도전!\n",
      "문제 1\n",
      "garlic\n",
      "오타! 다시 도전!\n",
      "문제 1\n",
      "potato\n",
      "오타! 다시 도전!\n",
      "문제 1\n",
      "garlic\n"
     ]
    },
    {
     "ename": "KeyboardInterrupt",
     "evalue": "Interrupted by user",
     "output_type": "error",
     "traceback": [
      "\u001b[1;31m---------------------------------------------------------------------------\u001b[0m",
      "\u001b[1;31mKeyboardInterrupt\u001b[0m                         Traceback (most recent call last)",
      "Cell \u001b[1;32mIn[9], line 22\u001b[0m\n\u001b[0;32m     20\u001b[0m question \u001b[38;5;241m=\u001b[39m random\u001b[38;5;241m.\u001b[39mchoice(word)\n\u001b[0;32m     21\u001b[0m \u001b[38;5;28mprint\u001b[39m(question) \u001b[38;5;66;03m# 문제 출제\u001b[39;00m\n\u001b[1;32m---> 22\u001b[0m user \u001b[38;5;241m=\u001b[39m \u001b[38;5;28minput\u001b[39m()\n\u001b[0;32m     23\u001b[0m \u001b[38;5;28;01mif\u001b[39;00m question \u001b[38;5;241m==\u001b[39m user :\n\u001b[0;32m     24\u001b[0m     \u001b[38;5;28mprint\u001b[39m(\u001b[38;5;124m'\u001b[39m\u001b[38;5;124m통과!!\u001b[39m\u001b[38;5;124m'\u001b[39m)\n",
      "File \u001b[1;32mc:\\Users\\kimhi\\anaconda3\\Lib\\site-packages\\ipykernel\\kernelbase.py:1262\u001b[0m, in \u001b[0;36mKernel.raw_input\u001b[1;34m(self, prompt)\u001b[0m\n\u001b[0;32m   1260\u001b[0m     msg \u001b[38;5;241m=\u001b[39m \u001b[38;5;124m\"\u001b[39m\u001b[38;5;124mraw_input was called, but this frontend does not support input requests.\u001b[39m\u001b[38;5;124m\"\u001b[39m\n\u001b[0;32m   1261\u001b[0m     \u001b[38;5;28;01mraise\u001b[39;00m StdinNotImplementedError(msg)\n\u001b[1;32m-> 1262\u001b[0m \u001b[38;5;28;01mreturn\u001b[39;00m \u001b[38;5;28mself\u001b[39m\u001b[38;5;241m.\u001b[39m_input_request(\n\u001b[0;32m   1263\u001b[0m     \u001b[38;5;28mstr\u001b[39m(prompt),\n\u001b[0;32m   1264\u001b[0m     \u001b[38;5;28mself\u001b[39m\u001b[38;5;241m.\u001b[39m_parent_ident[\u001b[38;5;124m\"\u001b[39m\u001b[38;5;124mshell\u001b[39m\u001b[38;5;124m\"\u001b[39m],\n\u001b[0;32m   1265\u001b[0m     \u001b[38;5;28mself\u001b[39m\u001b[38;5;241m.\u001b[39mget_parent(\u001b[38;5;124m\"\u001b[39m\u001b[38;5;124mshell\u001b[39m\u001b[38;5;124m\"\u001b[39m),\n\u001b[0;32m   1266\u001b[0m     password\u001b[38;5;241m=\u001b[39m\u001b[38;5;28;01mFalse\u001b[39;00m,\n\u001b[0;32m   1267\u001b[0m )\n",
      "File \u001b[1;32mc:\\Users\\kimhi\\anaconda3\\Lib\\site-packages\\ipykernel\\kernelbase.py:1305\u001b[0m, in \u001b[0;36mKernel._input_request\u001b[1;34m(self, prompt, ident, parent, password)\u001b[0m\n\u001b[0;32m   1302\u001b[0m \u001b[38;5;28;01mexcept\u001b[39;00m \u001b[38;5;167;01mKeyboardInterrupt\u001b[39;00m:\n\u001b[0;32m   1303\u001b[0m     \u001b[38;5;66;03m# re-raise KeyboardInterrupt, to truncate traceback\u001b[39;00m\n\u001b[0;32m   1304\u001b[0m     msg \u001b[38;5;241m=\u001b[39m \u001b[38;5;124m\"\u001b[39m\u001b[38;5;124mInterrupted by user\u001b[39m\u001b[38;5;124m\"\u001b[39m\n\u001b[1;32m-> 1305\u001b[0m     \u001b[38;5;28;01mraise\u001b[39;00m \u001b[38;5;167;01mKeyboardInterrupt\u001b[39;00m(msg) \u001b[38;5;28;01mfrom\u001b[39;00m \u001b[38;5;28;01mNone\u001b[39;00m\n\u001b[0;32m   1306\u001b[0m \u001b[38;5;28;01mexcept\u001b[39;00m \u001b[38;5;167;01mException\u001b[39;00m:\n\u001b[0;32m   1307\u001b[0m     \u001b[38;5;28mself\u001b[39m\u001b[38;5;241m.\u001b[39mlog\u001b[38;5;241m.\u001b[39mwarning(\u001b[38;5;124m\"\u001b[39m\u001b[38;5;124mInvalid Message:\u001b[39m\u001b[38;5;124m\"\u001b[39m, exc_info\u001b[38;5;241m=\u001b[39m\u001b[38;5;28;01mTrue\u001b[39;00m)\n",
      "\u001b[1;31mKeyboardInterrupt\u001b[0m: Interrupted by user"
     ]
    }
   ],
   "source": [
    "import random\n",
    "import time\n",
    "import os\n",
    "\n",
    "if os.path.exists('word.txt') : # 파일 존재 여부 확인\n",
    "\n",
    "    with open('word.txt', 'r') as f:\n",
    "        word = f.read().split() #전역 변수\n",
    "else :\n",
    "    word = ['sky', 'earth', 'moon', 'flower', 'tree', \n",
    "            'apple', 'grape', 'garlic', 'onion', 'potato']\n",
    "\n",
    "n = 1\n",
    "\n",
    "input('[타자게임] 준비되면 엔터!')\n",
    "start = time.time()\n",
    "\n",
    "while n <11 :\n",
    "    print('문제',n)\n",
    "    question = random.choice(word)\n",
    "    print(question) # 문제 출제\n",
    "    user = input()\n",
    "    if question == user :\n",
    "        print('통과!!')\n",
    "        n += 1 # 다음 문제 카운트\n",
    "    else:\n",
    "        print('오타! 다시 도전!')\n",
    "\n",
    "end = time.time()\n",
    "et = end - start\n",
    "print(f'타자 시간: {et: .2f}초')"
   ]
  },
  {
   "cell_type": "code",
   "execution_count": 6,
   "id": "d4134e6e",
   "metadata": {},
   "outputs": [
    {
     "name": "stdout",
     "output_type": "stream",
     "text": [
      "['3' '1' '2' '1']\n",
      "[3, 1, 2, '1']\n",
      "<class 'numpy.ndarray'>\n",
      "<class 'list'>\n"
     ]
    }
   ],
   "source": [
    "import numpy as np \n",
    "x = np.array([3,1,2,'1'])\n",
    "print(x)\n",
    "print(([3,1,2,'1']))\n",
    "print(type(x))\n",
    "print(type([3,1,2]))"
   ]
  },
  {
   "cell_type": "code",
   "execution_count": 11,
   "id": "bd027fcd",
   "metadata": {},
   "outputs": [
    {
     "name": "stdout",
     "output_type": "stream",
     "text": [
      "1 1\n",
      "1 2\n"
     ]
    }
   ],
   "source": [
    "c = [[1],[1,2]]\n",
    "# d = np.array([[1],[1,2]]) 오류\n",
    "d = np.array([[1,1],[1,2]])\n",
    "\n",
    "for x,y in d:\n",
    "    print(x,y)"
   ]
  },
  {
   "cell_type": "code",
   "execution_count": 12,
   "id": "203b69bf",
   "metadata": {},
   "outputs": [
    {
     "name": "stdout",
     "output_type": "stream",
     "text": [
      " C ����̺��� �������� �̸��� �����ϴ�.\n",
      " ���� �Ϸ� ��ȣ: 9AEB-3250\n",
      "\n",
      " c:\\Users\\kimhi\\python-test ���͸�\n",
      "\n",
      "2024-12-13  ���� 11:39    <DIR>          .\n",
      "2024-12-13  ���� 11:25    <DIR>          ..\n",
      "2024-12-13  ���� 11:31    <DIR>          .ipynb_checkpoints\n",
      "2024-11-30  ���� 10:07             1,044 1.py\n",
      "2024-12-05  ���� 12:46             1,502 10.py\n",
      "2024-12-05  ���� 10:01               766 11.py\n",
      "2024-12-05  ���� 12:46             1,007 12.py\n",
      "2024-12-05  ���� 01:52             1,628 13.py\n",
      "2024-12-07  ���� 01:52             2,985 14.py\n",
      "2024-12-09  ���� 11:21             2,040 15.py\n",
      "2024-12-10  ���� 10:20             1,813 16.py\n",
      "2024-12-10  ���� 10:32             2,391 17.py\n",
      "2024-12-10  ���� 11:37             1,211 18.py\n",
      "2024-12-10  ���� 01:51             1,902 19.py\n",
      "2024-11-30  ���� 10:38               576 2.py\n",
      "2024-12-11  ���� 10:15             2,032 20.py\n",
      "2024-12-11  ���� 12:33               711 21.py\n",
      "2024-12-11  ���� 01:22               256 22.py\n",
      "2024-12-12  ���� 10:15               891 23.py\n",
      "2024-12-12  ���� 11:26               459 24.py\n",
      "2024-12-12  ���� 01:02             1,450 25.py\n",
      "2024-12-12  ���� 01:55               823 26.py\n",
      "2024-12-13  ���� 10:04               432 27.py\n",
      "2024-12-13  ���� 11:11             1,808 28.py\n",
      "2024-11-30  ���� 12:15             1,391 3.py\n",
      "2024-11-30  ���� 01:51             1,247 4.py\n",
      "2024-11-30  ���� 01:51               961 5.py\n",
      "2024-12-02  ���� 10:48             1,255 6.py\n",
      "2024-12-02  ���� 12:49             3,867 7.py\n",
      "2024-12-04  ���� 09:16             2,583 8.py\n",
      "2024-12-04  ���� 10:39             1,391 9.py\n",
      "2024-12-11  ���� 12:48    <DIR>          bbb\n",
      "2024-12-10  ���� 11:16               140 calc_module.py\n",
      "2024-12-12  ���� 11:48                 0 check.txt\n",
      "2024-12-12  ���� 12:21                29 member.txt\n",
      "2024-12-12  ���� 01:43                21 member_tel.txt\n",
      "2024-12-11  ���� 12:30    <DIR>          modules\n",
      "2024-12-13  ���� 10:11    <DIR>          output\n",
      "2024-12-11  ���� 11:59               816 sys_ex1.py\n",
      "2024-12-12  ���� 09:42                33 text.txt\n",
      "2024-12-12  ���� 10:11                10 text2.txt\n",
      "2024-12-12  ���� 10:24    <DIR>          typing_game\n",
      "2024-12-13  ���� 12:21             4,410 Untitled.ipynb\n",
      "2024-12-05  ���� 12:03             4,456 ����Ʈ, ���ǹ� ����.py\n",
      "              37�� ����              50,337 ����Ʈ\n",
      "               7�� ���͸�  758,734,782,464 ����Ʈ ����\n"
     ]
    }
   ],
   "source": [
    "%ls"
   ]
  },
  {
   "cell_type": "code",
   "execution_count": 17,
   "id": "3eb2fc82",
   "metadata": {},
   "outputs": [
    {
     "name": "stdout",
     "output_type": "stream",
     "text": [
      "[3. 6. 9.]\n",
      "[-1. -2. -3.]\n",
      "[ 2.  8. 18.]\n",
      "[0.5 0.5 0.5]\n"
     ]
    }
   ],
   "source": [
    "x = np.array([1.0, 2.0, 3.0])\n",
    "y = np.array([2.0, 4.0, 6.0])\n",
    "\n",
    "print(x+y)\n",
    "print(x-y)\n",
    "print(x*y)\n",
    "print(x/y)"
   ]
  },
  {
   "cell_type": "code",
   "execution_count": 15,
   "id": "eb107705",
   "metadata": {},
   "outputs": [
    {
     "ename": "UFuncTypeError",
     "evalue": "ufunc 'add' did not contain a loop with signature matching types (dtype('<U3'), dtype('<U3')) -> None",
     "output_type": "error",
     "traceback": [
      "\u001b[1;31m---------------------------------------------------------------------------\u001b[0m",
      "\u001b[1;31mUFuncTypeError\u001b[0m                            Traceback (most recent call last)",
      "Cell \u001b[1;32mIn[15], line 4\u001b[0m\n\u001b[0;32m      1\u001b[0m x \u001b[38;5;241m=\u001b[39m np\u001b[38;5;241m.\u001b[39marray([\u001b[38;5;124m'\u001b[39m\u001b[38;5;124m1.0\u001b[39m\u001b[38;5;124m'\u001b[39m, \u001b[38;5;124m'\u001b[39m\u001b[38;5;124m2.0\u001b[39m\u001b[38;5;124m'\u001b[39m, \u001b[38;5;124m'\u001b[39m\u001b[38;5;124m3.0\u001b[39m\u001b[38;5;124m'\u001b[39m])\n\u001b[0;32m      2\u001b[0m y \u001b[38;5;241m=\u001b[39m np\u001b[38;5;241m.\u001b[39marray([\u001b[38;5;124m'\u001b[39m\u001b[38;5;124m2.0\u001b[39m\u001b[38;5;124m'\u001b[39m, \u001b[38;5;124m'\u001b[39m\u001b[38;5;124m4.0\u001b[39m\u001b[38;5;124m'\u001b[39m, \u001b[38;5;124m'\u001b[39m\u001b[38;5;124m6.0\u001b[39m\u001b[38;5;124m'\u001b[39m])\n\u001b[1;32m----> 4\u001b[0m \u001b[38;5;28mprint\u001b[39m(x\u001b[38;5;241m+\u001b[39my)\n\u001b[0;32m      5\u001b[0m \u001b[38;5;28mprint\u001b[39m(x\u001b[38;5;241m-\u001b[39my)\n\u001b[0;32m      6\u001b[0m \u001b[38;5;28mprint\u001b[39m(x\u001b[38;5;241m*\u001b[39my)\n",
      "\u001b[1;31mUFuncTypeError\u001b[0m: ufunc 'add' did not contain a loop with signature matching types (dtype('<U3'), dtype('<U3')) -> None"
     ]
    }
   ],
   "source": [
    "x = np.array(['1.0', '2.0', '3.0'])\n",
    "y = np.array(['2.0', '4.0', '6.0'])\n",
    "\n",
    "print(x+y)\n",
    "print(x-y)\n",
    "print(x*y)\n",
    "print(x/y)"
   ]
  },
  {
   "cell_type": "code",
   "execution_count": 20,
   "id": "3d3296c0",
   "metadata": {},
   "outputs": [
    {
     "name": "stdout",
     "output_type": "stream",
     "text": [
      "(3,)\n",
      "float64\n",
      "(2, 2)\n",
      "[1. 2. 3.]\n"
     ]
    }
   ],
   "source": [
    "print(x.shape)\n",
    "print(x.dtype)\n",
    "print(d.shape)\n",
    "print(y/2.0)"
   ]
  },
  {
   "cell_type": "code",
   "execution_count": 21,
   "id": "c6846ed1",
   "metadata": {},
   "outputs": [
    {
     "name": "stdout",
     "output_type": "stream",
     "text": [
      "1\n"
     ]
    }
   ],
   "source": [
    "print(x.ndim)"
   ]
  },
  {
   "cell_type": "code",
   "execution_count": 23,
   "id": "83e2307c",
   "metadata": {},
   "outputs": [
    {
     "name": "stdout",
     "output_type": "stream",
     "text": [
      "2\n"
     ]
    }
   ],
   "source": [
    "a = np.array([[1,2],[3,4],[5,6]])\n",
    "print(a.ndim)"
   ]
  },
  {
   "cell_type": "code",
   "execution_count": 25,
   "id": "21fa6844",
   "metadata": {},
   "outputs": [
    {
     "name": "stdout",
     "output_type": "stream",
     "text": [
      "(3, 2)\n"
     ]
    }
   ],
   "source": [
    "print(a.shape)"
   ]
  },
  {
   "cell_type": "code",
   "execution_count": 27,
   "id": "b1794d6b",
   "metadata": {},
   "outputs": [
    {
     "name": "stdout",
     "output_type": "stream",
     "text": [
      "3\n"
     ]
    }
   ],
   "source": [
    "a = np.array([[[1],[2]],[[3],[4]],[[5],[6]]])\n",
    "print(a.ndim)"
   ]
  },
  {
   "cell_type": "code",
   "execution_count": 29,
   "id": "4a7b8c57",
   "metadata": {},
   "outputs": [
    {
     "name": "stdout",
     "output_type": "stream",
     "text": [
      "(3, 2, 1)\n"
     ]
    }
   ],
   "source": [
    "print(a.shape)"
   ]
  },
  {
   "cell_type": "code",
   "execution_count": 30,
   "id": "f6afbb3a",
   "metadata": {},
   "outputs": [
    {
     "name": "stdout",
     "output_type": "stream",
     "text": [
      "3\n"
     ]
    }
   ],
   "source": [
    "a = np.array([[[1,2],[2,2]],[[3,2],[4,2]],[[5,2],[6,2]]])\n",
    "print(a.ndim)"
   ]
  },
  {
   "cell_type": "code",
   "execution_count": 31,
   "id": "4d4bba70",
   "metadata": {},
   "outputs": [
    {
     "name": "stdout",
     "output_type": "stream",
     "text": [
      "(3, 2, 2)\n"
     ]
    }
   ],
   "source": [
    "print(a.shape)"
   ]
  },
  {
   "cell_type": "code",
   "execution_count": 32,
   "id": "5019fc83",
   "metadata": {},
   "outputs": [
    {
     "data": {
      "text/plain": [
       "8"
      ]
     },
     "execution_count": 32,
     "metadata": {},
     "output_type": "execute_result"
    }
   ],
   "source": [
    "np.dot(4,2)"
   ]
  },
  {
   "cell_type": "code",
   "execution_count": 33,
   "id": "6aa8493e",
   "metadata": {},
   "outputs": [
    {
     "data": {
      "text/plain": [
       "14"
      ]
     },
     "execution_count": 33,
     "metadata": {},
     "output_type": "execute_result"
    }
   ],
   "source": [
    "ndar1 = np.array([1,2])\n",
    "ndar2 = np.array([4,5])\n",
    "np.dot(ndar1,ndar2)"
   ]
  },
  {
   "cell_type": "code",
   "execution_count": 35,
   "id": "fbf73511",
   "metadata": {},
   "outputs": [
    {
     "data": {
      "text/plain": [
       "array([[ 7, 10],\n",
       "       [15, 22]])"
      ]
     },
     "execution_count": 35,
     "metadata": {},
     "output_type": "execute_result"
    }
   ],
   "source": [
    "ndar1 = np.array([[1,2],[3,4]])\n",
    "ndar2 = np.array([[1,2],[3,4]])\n",
    "np.dot(ndar1,ndar2)"
   ]
  },
  {
   "cell_type": "code",
   "execution_count": 37,
   "id": "9fbe740c",
   "metadata": {},
   "outputs": [
    {
     "ename": "ValueError",
     "evalue": "matmul: Input operand 1 has a mismatch in its core dimension 0, with gufunc signature (n?,k),(k,m?)->(n?,m?) (size 2 is different from 1)",
     "output_type": "error",
     "traceback": [
      "\u001b[1;31m---------------------------------------------------------------------------\u001b[0m",
      "\u001b[1;31mValueError\u001b[0m                                Traceback (most recent call last)",
      "Cell \u001b[1;32mIn[37], line 3\u001b[0m\n\u001b[0;32m      1\u001b[0m ndar1 \u001b[38;5;241m=\u001b[39m np\u001b[38;5;241m.\u001b[39marray([[\u001b[38;5;241m1\u001b[39m],[\u001b[38;5;241m3\u001b[39m]])\n\u001b[0;32m      2\u001b[0m ndar2 \u001b[38;5;241m=\u001b[39m np\u001b[38;5;241m.\u001b[39marray([[\u001b[38;5;241m1\u001b[39m,\u001b[38;5;241m2\u001b[39m],[\u001b[38;5;241m3\u001b[39m,\u001b[38;5;241m4\u001b[39m]])\n\u001b[1;32m----> 3\u001b[0m np\u001b[38;5;241m.\u001b[39mmatmul(ndar1,ndar2)\n",
      "\u001b[1;31mValueError\u001b[0m: matmul: Input operand 1 has a mismatch in its core dimension 0, with gufunc signature (n?,k),(k,m?)->(n?,m?) (size 2 is different from 1)"
     ]
    }
   ],
   "source": [
    "ndar1 = np.array([[1],[3]])\n",
    "ndar2 = np.array([[1,2],[3,4]])\n",
    "np.matmul(ndar1,ndar2)"
   ]
  },
  {
   "cell_type": "code",
   "execution_count": 40,
   "id": "a5cfa4ec",
   "metadata": {},
   "outputs": [
    {
     "name": "stdout",
     "output_type": "stream",
     "text": [
      "(2, 2, 1)\n",
      "1\n",
      "[[[1]\n",
      "  [2]]\n",
      "\n",
      " [[3]\n",
      "  [4]]]\n",
      "[1 2 3 4]\n"
     ]
    }
   ],
   "source": [
    "ndar2 = np.array([[[1],[2]],[[3],[4]]])\n",
    "print(ndar2.shape)\n",
    "a = ndar2.flatten()\n",
    "print(a.ndim)\n",
    "print(ndar2)\n",
    "print(a)"
   ]
  },
  {
   "cell_type": "code",
   "execution_count": 41,
   "id": "4949280b",
   "metadata": {},
   "outputs": [
    {
     "data": {
      "text/plain": [
       "array([[1, 2, 2],\n",
       "       [3, 3, 4]])"
      ]
     },
     "execution_count": 41,
     "metadata": {},
     "output_type": "execute_result"
    }
   ],
   "source": [
    "ndarr = np.array([[1,2],[2,3],[3,4]])\n",
    "ndarr.reshape(2,3)"
   ]
  },
  {
   "cell_type": "code",
   "execution_count": 43,
   "id": "257fed93",
   "metadata": {},
   "outputs": [
    {
     "data": {
      "text/plain": [
       "array([[1],\n",
       "       [2],\n",
       "       [2],\n",
       "       [3],\n",
       "       [3],\n",
       "       [4]])"
      ]
     },
     "execution_count": 43,
     "metadata": {},
     "output_type": "execute_result"
    }
   ],
   "source": [
    "ndarr.reshape(6,1)"
   ]
  },
  {
   "cell_type": "code",
   "execution_count": 44,
   "id": "164609ee",
   "metadata": {},
   "outputs": [
    {
     "data": {
      "text/plain": [
       "array([[1, 2, 2, 3, 3, 4]])"
      ]
     },
     "execution_count": 44,
     "metadata": {},
     "output_type": "execute_result"
    }
   ],
   "source": [
    "ndarr.reshape(1,6)"
   ]
  },
  {
   "cell_type": "code",
   "execution_count": 45,
   "id": "6867f819",
   "metadata": {},
   "outputs": [
    {
     "data": {
      "text/plain": [
       "array([1, 2, 2, 3, 3, 4])"
      ]
     },
     "execution_count": 45,
     "metadata": {},
     "output_type": "execute_result"
    }
   ],
   "source": [
    "ndarr.flatten() # 1차원?"
   ]
  },
  {
   "cell_type": "code",
   "execution_count": 46,
   "id": "2a91afcc",
   "metadata": {},
   "outputs": [
    {
     "data": {
      "text/plain": [
       "array([[2, 4, 4, 1],\n",
       "       [2, 1, 0, 4]])"
      ]
     },
     "execution_count": 46,
     "metadata": {},
     "output_type": "execute_result"
    }
   ],
   "source": [
    "np.random.randint(5,size=(2,4))"
   ]
  },
  {
   "cell_type": "code",
   "execution_count": 47,
   "id": "017aabc9",
   "metadata": {},
   "outputs": [
    {
     "data": {
      "text/plain": [
       "array([[0.12232281, 0.60045527, 0.42649047, 0.89874203],\n",
       "       [0.47806609, 0.09008355, 0.98828644, 0.33072311]])"
      ]
     },
     "execution_count": 47,
     "metadata": {},
     "output_type": "execute_result"
    }
   ],
   "source": [
    "np.random.rand(2,4)"
   ]
  },
  {
   "cell_type": "code",
   "execution_count": 48,
   "id": "48b58e8e",
   "metadata": {},
   "outputs": [],
   "source": [
    "rng = np.random.default_rng() # 권장장"
   ]
  },
  {
   "cell_type": "code",
   "execution_count": 49,
   "id": "881e1f1f",
   "metadata": {},
   "outputs": [
    {
     "data": {
      "text/plain": [
       "0.3533705570021066"
      ]
     },
     "execution_count": 49,
     "metadata": {},
     "output_type": "execute_result"
    }
   ],
   "source": [
    "rng.random()"
   ]
  },
  {
   "cell_type": "code",
   "execution_count": 50,
   "id": "47e4e01e",
   "metadata": {},
   "outputs": [
    {
     "data": {
      "text/plain": [
       "array([[5, 0, 0, 1],\n",
       "       [1, 1, 5, 1]], dtype=int64)"
      ]
     },
     "execution_count": 50,
     "metadata": {},
     "output_type": "execute_result"
    }
   ],
   "source": [
    "rng.integers(0,10,(2,4))"
   ]
  },
  {
   "cell_type": "code",
   "execution_count": 51,
   "id": "117eb78a",
   "metadata": {},
   "outputs": [
    {
     "data": {
      "text/plain": [
       "array([[ True, False],\n",
       "       [ True, False],\n",
       "       [False, False]])"
      ]
     },
     "execution_count": 51,
     "metadata": {},
     "output_type": "execute_result"
    }
   ],
   "source": [
    "ndarr = np.array([[6,3],[5,2],[4,1]])\n",
    "ndarr > 4"
   ]
  },
  {
   "cell_type": "code",
   "execution_count": 54,
   "id": "14fea36a",
   "metadata": {},
   "outputs": [
    {
     "data": {
      "text/plain": [
       "array([6, 3, 5, 2, 4])"
      ]
     },
     "execution_count": 54,
     "metadata": {},
     "output_type": "execute_result"
    }
   ],
   "source": [
    "ndarr[ndarr > 1] # 1차원"
   ]
  },
  {
   "cell_type": "code",
   "execution_count": 58,
   "id": "056d8006",
   "metadata": {},
   "outputs": [
    {
     "data": {
      "text/plain": [
       "array([[5, 2],\n",
       "       [4, 1]])"
      ]
     },
     "execution_count": 58,
     "metadata": {},
     "output_type": "execute_result"
    }
   ],
   "source": [
    "ndarr[1:]"
   ]
  },
  {
   "cell_type": "code",
   "execution_count": 57,
   "id": "ebc8f56c",
   "metadata": {},
   "outputs": [
    {
     "data": {
      "text/plain": [
       "array([6, 3, 5, 2, 4])"
      ]
     },
     "execution_count": 57,
     "metadata": {},
     "output_type": "execute_result"
    }
   ],
   "source": [
    "ndarr[[[ True, True],\n",
    "       [ True, True],\n",
    "       [True, False]]]"
   ]
  },
  {
   "cell_type": "code",
   "execution_count": 45,
   "id": "8365b4cf",
   "metadata": {},
   "outputs": [
    {
     "name": "stdout",
     "output_type": "stream",
     "text": [
      "[0, 0, 0, 0, 0, 0, 0, 0, 0, 0]\n"
     ]
    }
   ],
   "source": [
    "import numpy as np\n",
    "\n",
    "ex = np.zeros(10)\n",
    "# ex = [0 for i in range(10)]\n",
    "print(ex)"
   ]
  },
  {
   "cell_type": "code",
   "execution_count": 15,
   "id": "cee0b3d2",
   "metadata": {},
   "outputs": [
    {
     "name": "stdout",
     "output_type": "stream",
     "text": [
      "[0, 0, 0, 0, 1, 0, 0, 0, 0, 0]\n"
     ]
    }
   ],
   "source": [
    "ex[4] = 1\n",
    "print(ex)"
   ]
  },
  {
   "cell_type": "code",
   "execution_count": 23,
   "id": "2a25d91c",
   "metadata": {},
   "outputs": [
    {
     "name": "stdout",
     "output_type": "stream",
     "text": [
      "[10 11 12 13 14 15 16 17 18 19 20 21 22 23 24 25 26 27 28 29 30]\n"
     ]
    }
   ],
   "source": [
    "ex1 = np.arange(10,31)\n",
    "print(ex1)"
   ]
  },
  {
   "cell_type": "code",
   "execution_count": 49,
   "id": "7d2a2f59",
   "metadata": {},
   "outputs": [
    {
     "name": "stdout",
     "output_type": "stream",
     "text": [
      "[[69 71]\n",
      " [83 18]]\n"
     ]
    }
   ],
   "source": [
    "rng = np.random.default_rng()\n",
    "print(rng.integers(0,100,(2,2)))"
   ]
  },
  {
   "cell_type": "code",
   "execution_count": 83,
   "id": "49e9a3f7",
   "metadata": {},
   "outputs": [
    {
     "name": "stdout",
     "output_type": "stream",
     "text": [
      "[[0.75486652 0.67278048 0.15538951 0.74882702]\n",
      " [0.081488   0.18798848 0.59807987 0.14975601]]\n"
     ]
    }
   ],
   "source": [
    "k = np.random.rand(2,4)\n",
    "print(k)"
   ]
  },
  {
   "cell_type": "code",
   "execution_count": 88,
   "id": "d9fb98ad",
   "metadata": {},
   "outputs": [
    {
     "name": "stdout",
     "output_type": "stream",
     "text": [
      "[[0.74585624 0.47585106 0.60959457 0.00618413]\n",
      " [0.04391967 0.40486302 0.44695103 0.34978452]]\n"
     ]
    }
   ],
   "source": [
    "k2 = rng.random((2,4))\n",
    "print(k2)"
   ]
  },
  {
   "cell_type": "code",
   "execution_count": 151,
   "id": "d90a262f",
   "metadata": {},
   "outputs": [
    {
     "name": "stdout",
     "output_type": "stream",
     "text": [
      "[[35 36 37 38]\n",
      " [39 40 41 42]\n",
      " [43 44 45 46]\n",
      " [47 48 49 50]\n",
      " [51 52 53 54]\n",
      " [55 56 57 58]\n",
      " [59 60 61 62]\n",
      " [63 64 65 66]\n",
      " [67 68 69 70]\n",
      " [71 72 73 74]]\n"
     ]
    }
   ],
   "source": [
    "arr1 = np.arange(35,75)\n",
    "# arr1.shape = (10,4) or\n",
    "arr2 = arr1.reshape(10,4)\n",
    "print(arr2)\n"
   ]
  },
  {
   "cell_type": "code",
   "execution_count": 120,
   "id": "0d0b7912",
   "metadata": {},
   "outputs": [
    {
     "name": "stdout",
     "output_type": "stream",
     "text": [
      "[[71 72 73 74]\n",
      " [67 68 69 70]\n",
      " [63 64 65 66]\n",
      " [59 60 61 62]\n",
      " [55 56 57 58]\n",
      " [51 52 53 54]\n",
      " [47 48 49 50]\n",
      " [43 44 45 46]\n",
      " [39 40 41 42]\n",
      " [35 36 37 38]]\n"
     ]
    }
   ],
   "source": [
    "print(arr2[::-1]) # 역순으로 끝까지 출력."
   ]
  },
  {
   "cell_type": "code",
   "execution_count": 175,
   "id": "02caf9da",
   "metadata": {},
   "outputs": [
    {
     "name": "stdout",
     "output_type": "stream",
     "text": [
      "[[41 42]\n",
      " [45 46]\n",
      " [49 50]\n",
      " [53 54]\n",
      " [57 58]\n",
      " [61 62]\n",
      " [65 66]\n",
      " [69 70]]\n"
     ]
    }
   ],
   "source": [
    "print(arr2[1:9,2::])\n",
    "# print(arr2[1:-1, 2:])"
   ]
  },
  {
   "cell_type": "code",
   "execution_count": 159,
   "id": "68618bf9",
   "metadata": {},
   "outputs": [
    {
     "name": "stdout",
     "output_type": "stream",
     "text": [
      "[38 42 46 50 54 58 62 66 70 74]\n",
      "[[38]\n",
      " [42]\n",
      " [46]\n",
      " [50]\n",
      " [54]\n",
      " [58]\n",
      " [62]\n",
      " [66]\n",
      " [70]\n",
      " [74]]\n"
     ]
    }
   ],
   "source": [
    "print(arr2[:,3]) # 정수 인덱스 => 1차원\n",
    "# arr2[:, -1]\n",
    "print(arr2[:,3:4]) # 범위 인덱스 = > 2차원\n",
    "# arr2[:, -1:]"
   ]
  },
  {
   "cell_type": "code",
   "execution_count": 160,
   "id": "86d37db8",
   "metadata": {},
   "outputs": [
    {
     "name": "stdout",
     "output_type": "stream",
     "text": [
      "[[74]\n",
      " [70]\n",
      " [66]\n",
      " [62]\n",
      " [58]\n",
      " [54]\n",
      " [50]\n",
      " [46]\n",
      " [42]\n",
      " [38]]\n"
     ]
    }
   ],
   "source": [
    "arr3 = arr2[:,3:4]\n",
    "# arr2[::-1,-1:]\n",
    "print(arr3[::-1])"
   ]
  },
  {
   "cell_type": "code",
   "execution_count": 170,
   "id": "4a4284bb",
   "metadata": {},
   "outputs": [
    {
     "name": "stdout",
     "output_type": "stream",
     "text": [
      "[[19  1 44 13  8 29]\n",
      " [45  3  3 17 25  5]\n",
      " [48 21 16  2  9 18]\n",
      " [13 46 20 34 35 11]\n",
      " [41 14  7 21  1  1]]\n",
      "짝수만 출력 :  [44, 8, 48, 16, 2, 18, 46, 20, 34, 14]\n"
     ]
    }
   ],
   "source": [
    "arr4 = rng.integers(1,51,(5,6))\n",
    "# arr4 = rng.integers(1,51, size = (5,6))\n",
    "arr5 = [j  for i in arr4  for j in i  if j%2 == 0 ]\n",
    "# arr4[arr4%2 == 0]\n",
    "print(arr4)\n",
    "print('짝수만 출력 : ',arr5)"
   ]
  }
 ],
 "metadata": {
  "kernelspec": {
   "display_name": "base",
   "language": "python",
   "name": "python3"
  },
  "language_info": {
   "codemirror_mode": {
    "name": "ipython",
    "version": 3
   },
   "file_extension": ".py",
   "mimetype": "text/x-python",
   "name": "python",
   "nbconvert_exporter": "python",
   "pygments_lexer": "ipython3",
   "version": "3.12.7"
  }
 },
 "nbformat": 4,
 "nbformat_minor": 5
}
