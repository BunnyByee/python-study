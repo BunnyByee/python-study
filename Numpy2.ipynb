{
 "cells": [
  {
   "cell_type": "code",
   "execution_count": 4,
   "metadata": {},
   "outputs": [
    {
     "name": "stdout",
     "output_type": "stream",
     "text": [
      "[[[1 2]\n",
      "  [3 4]]]\n",
      "(1, 2, 2)\n"
     ]
    }
   ],
   "source": [
    "import numpy as np\n",
    "\n",
    "a = np.array([[1,2],[3,4]])\n",
    "\n",
    "expanded = np.expand_dims(a, 0)\n",
    "print(expanded)\n",
    "print(expanded.shape)"
   ]
  },
  {
   "cell_type": "code",
   "execution_count": 15,
   "metadata": {},
   "outputs": [
    {
     "name": "stdout",
     "output_type": "stream",
     "text": [
      "[[[[1. 1. 1.]]\n",
      "\n",
      "  [[1. 1. 1.]]]]\n",
      "(1, 2, 1, 3)\n"
     ]
    }
   ],
   "source": [
    "np_ones = np.ones((1,2,1,3))\n",
    "print(np_ones)\n",
    "print(np_ones.shape)"
   ]
  },
  {
   "cell_type": "code",
   "execution_count": 14,
   "metadata": {},
   "outputs": [
    {
     "name": "stdout",
     "output_type": "stream",
     "text": [
      "[[1. 1. 1.]\n",
      " [1. 1. 1.]]\n",
      "(2, 3)\n"
     ]
    }
   ],
   "source": [
    "sq = np.squeeze(np_ones)\n",
    "print(sq)\n",
    "print(sq.shape)"
   ]
  },
  {
   "cell_type": "code",
   "execution_count": 10,
   "metadata": {},
   "outputs": [
    {
     "name": "stdout",
     "output_type": "stream",
     "text": [
      "[1 2 3 4]\n",
      "[2 3 3 2]\n"
     ]
    }
   ],
   "source": [
    "a = [1,2,2,3,3,4,3,2,4,1]\n",
    "\n",
    "u_a, counts = np.unique(a, return_counts = True)\n",
    "print(u_a)\n",
    "print(counts)"
   ]
  },
  {
   "cell_type": "code",
   "execution_count": 11,
   "metadata": {},
   "outputs": [
    {
     "name": "stdout",
     "output_type": "stream",
     "text": [
      "[1 2 3 4]\n",
      "[0 1 3 5]\n"
     ]
    }
   ],
   "source": [
    "a = [1,2,2,3,3,4,3,2,4,1]\n",
    "\n",
    "u_a, indexs = np.unique(a, return_index = True)\n",
    "print(u_a)\n",
    "print(indexs)"
   ]
  },
  {
   "cell_type": "code",
   "execution_count": 12,
   "metadata": {},
   "outputs": [
    {
     "name": "stdout",
     "output_type": "stream",
     "text": [
      "[1 2 3 4]\n",
      "[0 1 3 5]\n",
      "[2 3 3 2]\n"
     ]
    }
   ],
   "source": [
    "a = [1,2,2,3,3,4,3,2,4,1]\n",
    "# unique(index를 먼저 쓰던 count를 먼저 쓰던 출력은 index부터)\n",
    "u_a, indexs, counts = np.unique(a, return_index = True, return_counts = True)\n",
    "print(u_a)\n",
    "print(indexs)\n",
    "print(counts)"
   ]
  },
  {
   "cell_type": "code",
   "execution_count": 16,
   "metadata": {},
   "outputs": [
    {
     "name": "stdout",
     "output_type": "stream",
     "text": [
      "a [1 4 2 3]\n",
      "b [1 2 3 4]\n",
      "c [0 2 3 1]\n",
      "cc [1 2 3 4]\n",
      "a [1 2 3 4]\n"
     ]
    }
   ],
   "source": [
    "a = np.array([1,4,2,3])\n",
    "b = np.sort(a) # a[np.argsort(a)]\n",
    "print(f'a {a}')\n",
    "print(f'b {b}')\n",
    "c = np.argsort(a)\n",
    "print(f'c {c}')\n",
    "print(f'cc {a[c]}')\n",
    "a.sort()\n",
    "print(f'a {a}')"
   ]
  },
  {
   "cell_type": "code",
   "execution_count": 19,
   "metadata": {},
   "outputs": [
    {
     "data": {
      "text/plain": [
       "2.5"
      ]
     },
     "execution_count": 19,
     "metadata": {},
     "output_type": "execute_result"
    }
   ],
   "source": [
    "a = np.array([1,4,2,3])\n",
    "np.mean(a)"
   ]
  },
  {
   "cell_type": "code",
   "execution_count": 23,
   "metadata": {},
   "outputs": [
    {
     "data": {
      "text/plain": [
       "1.118033988749895"
      ]
     },
     "execution_count": 23,
     "metadata": {},
     "output_type": "execute_result"
    }
   ],
   "source": [
    "np.std(a)"
   ]
  },
  {
   "cell_type": "code",
   "execution_count": 24,
   "metadata": {},
   "outputs": [
    {
     "data": {
      "text/plain": [
       "1.25"
      ]
     },
     "execution_count": 24,
     "metadata": {},
     "output_type": "execute_result"
    }
   ],
   "source": [
    "np.var(a)"
   ]
  },
  {
   "cell_type": "code",
   "execution_count": 25,
   "metadata": {},
   "outputs": [
    {
     "data": {
      "text/plain": [
       "4"
      ]
     },
     "execution_count": 25,
     "metadata": {},
     "output_type": "execute_result"
    }
   ],
   "source": [
    "np.max(a)"
   ]
  },
  {
   "cell_type": "code",
   "execution_count": 27,
   "metadata": {},
   "outputs": [
    {
     "data": {
      "text/plain": [
       "1"
      ]
     },
     "execution_count": 27,
     "metadata": {},
     "output_type": "execute_result"
    }
   ],
   "source": [
    "np.min(a)"
   ]
  },
  {
   "cell_type": "code",
   "execution_count": 28,
   "metadata": {},
   "outputs": [
    {
     "data": {
      "text/plain": [
       "2.5"
      ]
     },
     "execution_count": 28,
     "metadata": {},
     "output_type": "execute_result"
    }
   ],
   "source": [
    "np.median(a)"
   ]
  },
  {
   "cell_type": "code",
   "execution_count": 79,
   "metadata": {},
   "outputs": [
    {
     "name": "stdout",
     "output_type": "stream",
     "text": [
      "[  1   2   3   4   5   7   8   9  10  11  24 100]\n"
     ]
    }
   ],
   "source": [
    "a = [1,1,2,3,4,5,5,5,5,7,8,9,10,11,24,100]\n",
    "# 1번\n",
    "uq = np.unique(a)\n",
    "print(uq)"
   ]
  },
  {
   "cell_type": "code",
   "execution_count": 37,
   "metadata": {},
   "outputs": [
    {
     "name": "stdout",
     "output_type": "stream",
     "text": [
      "100\n",
      "1\n",
      "15.333333333333334\n"
     ]
    }
   ],
   "source": [
    "# 2번\n",
    "print(np.max(uq))\n",
    "print(np.min(uq))\n",
    "print(np.mean(uq))"
   ]
  },
  {
   "cell_type": "code",
   "execution_count": 39,
   "metadata": {},
   "outputs": [
    {
     "name": "stdout",
     "output_type": "stream",
     "text": [
      "184\n",
      "5.0\n"
     ]
    }
   ],
   "source": [
    "# 3번, 4번\n",
    "print(np.sum(uq))\n",
    "print(np.median(a))"
   ]
  },
  {
   "cell_type": "code",
   "execution_count": 81,
   "metadata": {},
   "outputs": [
    {
     "name": "stdout",
     "output_type": "stream",
     "text": [
      "[[  0   1   2   3   4]\n",
      " [-99   6 -99   8 -99]\n",
      " [-99  11 -99  13 -99]]\n"
     ]
    }
   ],
   "source": [
    "x = np.arange(15, dtype= np.int64).reshape(3,5)\n",
    "x[1:, ::2] = -99\n",
    "\n",
    "print(x)"
   ]
  },
  {
   "cell_type": "code",
   "execution_count": 52,
   "metadata": {},
   "outputs": [
    {
     "name": "stdout",
     "output_type": "stream",
     "text": [
      "0\n",
      "-99\n",
      "-66.0\n"
     ]
    }
   ],
   "source": [
    "print(np.max(x[:,0]))\n",
    "# np.max(x,axis=0)[0]\n",
    "print(np.min(x[:,0]))\n",
    "print(np.mean(x[:,0]))"
   ]
  },
  {
   "cell_type": "code",
   "execution_count": 87,
   "metadata": {},
   "outputs": [
    {
     "name": "stdout",
     "output_type": "stream",
     "text": [
      "-283\n",
      "-283\n"
     ]
    }
   ],
   "source": [
    "print(np.sum(x[1]))\n",
    "# print(np.sum(x, axis=1)[1])"
   ]
  },
  {
   "cell_type": "code",
   "execution_count": 80,
   "metadata": {},
   "outputs": [
    {
     "name": "stdout",
     "output_type": "stream",
     "text": [
      "[100  24  11  10   9   8   7   5   5   5   5   4   3   2   1   1]\n"
     ]
    }
   ],
   "source": [
    "a = np.array([1,1,2,3,4,5,5,5,5,7,8,9,10,11,24,100])\n",
    "b = np.argsort(a)[::-1]\n",
    "print(a[b])"
   ]
  }
 ],
 "metadata": {
  "kernelspec": {
   "display_name": "base",
   "language": "python",
   "name": "python3"
  },
  "language_info": {
   "codemirror_mode": {
    "name": "ipython",
    "version": 3
   },
   "file_extension": ".py",
   "mimetype": "text/x-python",
   "name": "python",
   "nbconvert_exporter": "python",
   "pygments_lexer": "ipython3",
   "version": "3.12.7"
  }
 },
 "nbformat": 4,
 "nbformat_minor": 2
}
