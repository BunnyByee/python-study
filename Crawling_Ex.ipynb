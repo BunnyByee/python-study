{
 "cells": [
  {
   "cell_type": "code",
   "execution_count": 42,
   "metadata": {},
   "outputs": [
    {
     "ename": "TypeError",
     "evalue": "'builtin_function_or_method' object is not subscriptable",
     "output_type": "error",
     "traceback": [
      "\u001b[1;31m---------------------------------------------------------------------------\u001b[0m",
      "\u001b[1;31mTypeError\u001b[0m                                 Traceback (most recent call last)",
      "Cell \u001b[1;32mIn[42], line 22\u001b[0m\n\u001b[0;32m     19\u001b[0m \u001b[38;5;28;01mfor\u001b[39;00m i \u001b[38;5;129;01min\u001b[39;00m m_title:\n\u001b[0;32m     20\u001b[0m     \u001b[38;5;66;03m# 공백을 기준으로 나누기\u001b[39;00m\n\u001b[0;32m     21\u001b[0m     txt \u001b[38;5;241m=\u001b[39m i\u001b[38;5;241m.\u001b[39mtext\n\u001b[1;32m---> 22\u001b[0m     clear_txt \u001b[38;5;241m=\u001b[39m \u001b[38;5;124m'\u001b[39m\u001b[38;5;124m \u001b[39m\u001b[38;5;124m'\u001b[39m\u001b[38;5;241m.\u001b[39mjoin(txt\u001b[38;5;241m.\u001b[39msplit[\u001b[38;5;241m1\u001b[39m:])\n\u001b[0;32m     23\u001b[0m     \u001b[38;5;28mprint\u001b[39m(clear_txt)\n",
      "\u001b[1;31mTypeError\u001b[0m: 'builtin_function_or_method' object is not subscriptable"
     ]
    }
   ],
   "source": [
    "import requests\n",
    "from bs4 import BeautifulSoup\n",
    "\n",
    "response = requests.get(\"https://finance.naver.com/marketindex/?tabSel=exchange#tab_section\")\n",
    "html = response.text\n",
    "soup = BeautifulSoup(html,'html.parser')\n",
    "\n",
    "m_title = soup.select('.market1 .data .h_lst .blind')\n",
    "m_num = soup.select('.market1 .data .value')\n",
    "\n",
    "# for i in m_title :\n",
    "#     txt = i.text\n",
    "#     clear_text = ' '.join(txt.split()[1:])\n",
    "#     print(clear_text)\n",
    "\n",
    "# for j in m_num :\n",
    "#     print(j.text)\n",
    "\n",
    "for i in m_title:\n",
    "    # 공백을 기준으로 나누기\n",
    "    txt = i.text\n",
    "    clear_txt = ' '.join(txt.split[1:])\n",
    "    print(clear_txt)\n",
    "\n",
    "# for i, j in zip(m_title, m_num) :\n",
    "#     txt = i.text\n",
    "#     num = j.text\n",
    "#     clear_txt = ' '.join(txt.split()[1:])\n",
    "#     print(clear_txt,num)"
   ]
  },
  {
   "cell_type": "code",
   "execution_count": 37,
   "metadata": {},
   "outputs": [
    {
     "ename": "SyntaxError",
     "evalue": "invalid syntax (3844812074.py, line 6)",
     "output_type": "error",
     "traceback": [
      "\u001b[1;36m  Cell \u001b[1;32mIn[37], line 6\u001b[1;36m\u001b[0m\n\u001b[1;33m    for i in\u001b[0m\n\u001b[1;37m             ^\u001b[0m\n\u001b[1;31mSyntaxError\u001b[0m\u001b[1;31m:\u001b[0m invalid syntax\n"
     ]
    }
   ],
   "source": [
    "import openpyxl\n",
    "\n",
    "wb = openpyxl.Workbook()\n",
    "ws = wb.create_sheet('codingon_ex')\n",
    "\n",
    "for i in \n",
    "\n",
    "wb.save('codingon_ex.xlsx')"
   ]
  },
  {
   "cell_type": "code",
   "execution_count": null,
   "metadata": {},
   "outputs": [],
   "source": []
  }
 ],
 "metadata": {
  "kernelspec": {
   "display_name": "base",
   "language": "python",
   "name": "python3"
  },
  "language_info": {
   "codemirror_mode": {
    "name": "ipython",
    "version": 3
   },
   "file_extension": ".py",
   "mimetype": "text/x-python",
   "name": "python",
   "nbconvert_exporter": "python",
   "pygments_lexer": "ipython3",
   "version": "3.12.7"
  }
 },
 "nbformat": 4,
 "nbformat_minor": 2
}
